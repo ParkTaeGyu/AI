{
  "nbformat": 4,
  "nbformat_minor": 0,
  "metadata": {
    "colab": {
      "name": "2_Practice_01.ipynb",
      "version": "0.3.2",
      "provenance": [],
      "collapsed_sections": [],
      "include_colab_link": true
    },
    "kernelspec": {
      "display_name": "Python 3",
      "language": "python",
      "name": "python3"
    }
  },
  "cells": [
    {
      "cell_type": "markdown",
      "metadata": {
        "id": "view-in-github",
        "colab_type": "text"
      },
      "source": [
        "<a href=\"https://colab.research.google.com/github/sanglee/KIBME2019/blob/master/2_Practice_01.ipynb\" target=\"_parent\"><img src=\"https://colab.research.google.com/assets/colab-badge.svg\" alt=\"Open In Colab\"/></a>"
      ]
    },
    {
      "metadata": {
        "id": "4yaIEZ07zkL_",
        "colab_type": "text"
      },
      "cell_type": "markdown",
      "source": [
        "\n",
        "# Machine Learning & AI: Practice 1\n",
        "\n",
        "-----------\n",
        "\n",
        "\n",
        "<br><br>\n",
        "\n",
        "<h3><div style=\"text-align: center\"> 한양대학교 에리카, AI Lab <br><br>\n",
        "이상근 </div> </h3>\n"
      ]
    },
    {
      "metadata": {
        "id": "Epsmdy9ezkMN",
        "colab_type": "text"
      },
      "cell_type": "markdown",
      "source": [
        "## Prepare Digits Data Set"
      ]
    },
    {
      "metadata": {
        "id": "pHWJCBbYzkMb",
        "colab_type": "code",
        "outputId": "15826d46-42ab-4ca5-db9b-fe0aee32fe3b",
        "colab": {
          "base_uri": "https://localhost:8080/",
          "height": 35
        }
      },
      "cell_type": "code",
      "source": [
        "from sklearn.datasets import load_digits\n",
        "\n",
        "digits = load_digits()\n",
        "print(digits.data.shape)"
      ],
      "execution_count": 2,
      "outputs": [
        {
          "output_type": "stream",
          "text": [
            "(1797, 64)\n"
          ],
          "name": "stdout"
        }
      ]
    },
    {
      "metadata": {
        "id": "imGdt7hgzkM1",
        "colab_type": "code",
        "outputId": "fe3ec703-3d46-4244-fff5-a756ce6cdc4b",
        "colab": {
          "base_uri": "https://localhost:8080/",
          "height": 303
        }
      },
      "cell_type": "code",
      "source": [
        "images_and_labels = list(zip(digits.images, digits.target))\n",
        "for index, (image, label) in enumerate(images_and_labels[:10]):\n",
        "    plt.subplot(2, 5, index + 1)\n",
        "    plt.axis('off')\n",
        "    plt.imshow(image, cmap=plt.cm.gray_r, interpolation='nearest')\n",
        "    plt.title('Training: %i' % label)"
      ],
      "execution_count": 13,
      "outputs": [
        {
          "output_type": "display_data",
          "data": {
            "image/png": "[encoded data removed]",
            "text/plain": [
              "<Figure size 576x396 with 10 Axes>"
            ]
          },
          "metadata": {
            "tags": []
          }
        }
      ]
    },
    {
      "metadata": {
        "id": "YrYa_9fSE1Ci",
        "colab_type": "text"
      },
      "cell_type": "markdown",
      "source": [
        "## Train & Test Split"
      ]
    },
    {
      "metadata": {
        "id": "ukIkrzhBEzJj",
        "colab_type": "code",
        "colab": {}
      },
      "cell_type": "code",
      "source": [
        "from sklearn.model_selection import train_test_split\n",
        "\n",
        "X_train, X_test, y_train, y_test = train_test_split(digits.data, digits.target, test_size=0.3, random_state=0)"
      ],
      "execution_count": 0,
      "outputs": []
    },
    {
      "metadata": {
        "id": "jscPVVP3Feo0",
        "colab_type": "text"
      },
      "cell_type": "markdown",
      "source": [
        "## Standardization"
      ]
    },
    {
      "metadata": {
        "id": "hXvfunAZFe1S",
        "colab_type": "code",
        "colab": {}
      },
      "cell_type": "code",
      "source": [
        "from sklearn.preprocessing import StandardScaler\n",
        "\n",
        "sc = StandardScaler()\n",
        "sc.fit(X_train) # not on the test set\n",
        "X_train_std = sc.transform(X_train)\n",
        "X_test_std = sc.transform(X_test)"
      ],
      "execution_count": 0,
      "outputs": []
    },
    {
      "metadata": {
        "id": "k9OOkS7hFmqO",
        "colab_type": "text"
      },
      "cell_type": "markdown",
      "source": [
        "## Classification with Logistic Regression"
      ]
    },
    {
      "metadata": {
        "id": "zM3rg4kPFmwu",
        "colab_type": "code",
        "colab": {
          "base_uri": "https://localhost:8080/",
          "height": 88
        },
        "outputId": "2bcb5399-112c-4940-a612-f842439e1233"
      },
      "cell_type": "code",
      "source": [
        "from sklearn.linear_model import LogisticRegression\n",
        "\n",
        "lr = LogisticRegression(C=0.1, random_state=0, solver='lbfgs', multi_class='auto')\n",
        "lr.fit(X_train_std, y_train)\n"
      ],
      "execution_count": 20,
      "outputs": [
        {
          "output_type": "execute_result",
          "data": {
            "text/plain": [
              "LogisticRegression(C=0.1, class_weight=None, dual=False, fit_intercept=True,\n",
              "          intercept_scaling=1, max_iter=100, multi_class='auto',\n",
              "          n_jobs=None, penalty='l2', random_state=0, solver='lbfgs',\n",
              "          tol=0.0001, verbose=0, warm_start=False)"
            ]
          },
          "metadata": {
            "tags": []
          },
          "execution_count": 20
        }
      ]
    },
    {
      "metadata": {
        "id": "ss89gxc6F1YF",
        "colab_type": "code",
        "colab": {
          "base_uri": "https://localhost:8080/",
          "height": 53
        },
        "outputId": "97f40658-b8b3-41e1-bbcd-78d522ed5488"
      },
      "cell_type": "code",
      "source": [
        "from sklearn.metrics import accuracy_score\n",
        "\n",
        "y_pred = lr.predict(X_train_std)\n",
        "print('Train-set Accuracy: %.2f' % accuracy_score(y_train, y_pred))\n",
        "y_pred = lr.predict(X_test_std)\n",
        "print('Test-set Accuracy: %.2f' % accuracy_score(y_test, y_pred))"
      ],
      "execution_count": 21,
      "outputs": [
        {
          "output_type": "stream",
          "text": [
            "Train-set Accuracy: 0.99\n",
            "Test-set Accuracy: 0.96\n"
          ],
          "name": "stdout"
        }
      ]
    },
    {
      "metadata": {
        "id": "MXd5l12pGCAB",
        "colab_type": "code",
        "colab": {
          "base_uri": "https://localhost:8080/",
          "height": 213
        },
        "outputId": "8a3d9e22-736c-44f0-fff1-177e7106fa60"
      },
      "cell_type": "code",
      "source": [
        "from sklearn import metrics\n",
        "\n",
        "print(\"Confusion matrix:\\n%s\" % metrics.confusion_matrix(y_test, y_pred))"
      ],
      "execution_count": 22,
      "outputs": [
        {
          "output_type": "stream",
          "text": [
            "Confusion matrix:\n",
            "[[45  0  0  0  0  0  0  0  0  0]\n",
            " [ 0 48  0  0  0  0  1  0  2  1]\n",
            " [ 0  2 50  0  0  0  0  1  0  0]\n",
            " [ 0  0  0 52  0  0  0  0  2  0]\n",
            " [ 0  0  0  0 46  0  0  2  0  0]\n",
            " [ 0  0  0  0  0 54  1  0  0  2]\n",
            " [ 0  1  0  0  0  0 59  0  0  0]\n",
            " [ 0  0  0  0  2  0  0 51  0  0]\n",
            " [ 0  3  1  0  0  0  0  0 56  1]\n",
            " [ 0  0  0  0  0  1  0  1  0 55]]\n"
          ],
          "name": "stdout"
        }
      ]
    },
    {
      "metadata": {
        "id": "lONJFw96zkQT",
        "colab_type": "text"
      },
      "cell_type": "markdown",
      "source": [
        "## Classification with SVM"
      ]
    },
    {
      "metadata": {
        "id": "drPXxTsbzkQv",
        "colab_type": "code",
        "outputId": "f51bb9b0-2a36-40f0-f3dd-8b414f62ab5f",
        "colab": {
          "base_uri": "https://localhost:8080/",
          "height": 88
        }
      },
      "cell_type": "code",
      "source": [
        "from sklearn.svm import SVC\n",
        "\n",
        "svm = SVC(kernel='linear', random_state=0, C=1.0)\n",
        "svm.fit(X_train_std, y_train)"
      ],
      "execution_count": 30,
      "outputs": [
        {
          "output_type": "execute_result",
          "data": {
            "text/plain": [
              "SVC(C=1.0, cache_size=200, class_weight=None, coef0=0.0,\n",
              "  decision_function_shape='ovr', degree=3, gamma='auto_deprecated',\n",
              "  kernel='linear', max_iter=-1, probability=False, random_state=0,\n",
              "  shrinking=True, tol=0.001, verbose=False)"
            ]
          },
          "metadata": {
            "tags": []
          },
          "execution_count": 30
        }
      ]
    },
    {
      "metadata": {
        "id": "2MUP7oaDzkRL",
        "colab_type": "code",
        "outputId": "2a7ed167-84d7-4e2d-eb91-b41c43cf92c8",
        "colab": {
          "base_uri": "https://localhost:8080/",
          "height": 53
        }
      },
      "cell_type": "code",
      "source": [
        "y_pred = svm.predict(X_train_std)\n",
        "print('Train-set Accuracy: %.2f' % accuracy_score(y_train, y_pred))\n",
        "y_pred = svm.predict(X_test_std)\n",
        "print('Test-set Accuracy: %.2f' % accuracy_score(y_test, y_pred))"
      ],
      "execution_count": 31,
      "outputs": [
        {
          "output_type": "stream",
          "text": [
            "Train-set Accuracy: 1.00\n",
            "Test-set Accuracy: 0.97\n"
          ],
          "name": "stdout"
        }
      ]
    },
    {
      "metadata": {
        "id": "h7bL9LgGGWVb",
        "colab_type": "code",
        "colab": {
          "base_uri": "https://localhost:8080/",
          "height": 213
        },
        "outputId": "8d4bdd67-fa65-4490-992f-6dec8a3eb704"
      },
      "cell_type": "code",
      "source": [
        "from sklearn import metrics\n",
        "\n",
        "print(\"Confusion matrix:\\n%s\" % metrics.confusion_matrix(y_test, y_pred))"
      ],
      "execution_count": 32,
      "outputs": [
        {
          "output_type": "stream",
          "text": [
            "Confusion matrix:\n",
            "[[45  0  0  0  0  0  0  0  0  0]\n",
            " [ 0 51  0  0  0  0  0  0  1  0]\n",
            " [ 0  0 53  0  0  0  0  0  0  0]\n",
            " [ 0  0  1 52  0  0  0  0  1  0]\n",
            " [ 0  0  0  0 48  0  0  0  0  0]\n",
            " [ 0  0  0  0  0 56  0  0  0  1]\n",
            " [ 0  1  0  0  0  0 59  0  0  0]\n",
            " [ 0  0  0  0  2  0  0 50  0  1]\n",
            " [ 0  3  0  2  0  0  0  0 55  1]\n",
            " [ 0  0  0  1  0  1  0  0  0 55]]\n"
          ],
          "name": "stdout"
        }
      ]
    },
    {
      "metadata": {
        "id": "ZnVBeGhGzkRa",
        "colab_type": "text"
      },
      "cell_type": "markdown",
      "source": [
        "## PCA Analysis"
      ]
    },
    {
      "metadata": {
        "id": "p5HigoFozkRc",
        "colab_type": "code",
        "outputId": "984ab3d2-b454-4167-8ad6-7cdf24a4ce1f",
        "colab": {
          "base_uri": "https://localhost:8080/",
          "height": 361
        }
      },
      "cell_type": "code",
      "source": [
        "from sklearn.decomposition import PCA\n",
        "import matplotlib.pyplot as plt\n",
        "import numpy as np\n",
        "\n",
        "pca = PCA()\n",
        "X_train_pca = pca.fit_transform(X_train_std)\n",
        "X_test_pca = pca.transform(X_test_std)\n",
        "\n",
        "vals = pca.explained_variance_ratio_[:]\n",
        "\n",
        "plt.bar(range(0, vals.size), vals, alpha=0.5, align='center')\n",
        "plt.step(range(0, vals.size), np.cumsum(vals), where='mid')\n",
        "plt.ylabel('Explained variance ratio')\n",
        "plt.xlabel('Principal components')\n",
        "plt.show()"
      ],
      "execution_count": 34,
      "outputs": [
        {
          "output_type": "display_data",
          "data": {
            "image/png": "[encoded data removed]",
            "text/plain": [
              "<Figure size 576x396 with 1 Axes>"
            ]
          },
          "metadata": {
            "tags": []
          }
        }
      ]
    },
    {
      "metadata": {
        "id": "9mdt_pX_zkRq",
        "colab_type": "code",
        "outputId": "6c5827fc-5035-4c08-9bc0-b896b60ad7e6",
        "colab": {
          "base_uri": "https://localhost:8080/",
          "height": 379
        }
      },
      "cell_type": "code",
      "source": [
        "from sklearn.decomposition import PCA\n",
        "\n",
        "pca = PCA(n_components=10)\n",
        "X_train_pca = pca.fit_transform(X_train_std)\n",
        "X_test_pca = pca.transform(X_test_std)\n",
        "\n",
        "print(X_train_pca.shape)\n",
        "\n",
        "A = 0\n",
        "B = 1\n",
        "PC_x = 0\n",
        "PC_y = 1\n",
        "plt.scatter(X_train_pca[y_train==A, PC_x], X_train_pca[y_train==A, PC_y], marker='o')\n",
        "plt.scatter(X_train_pca[y_train==B, PC_x], X_train_pca[y_train==B, PC_y], marker='x')\n",
        "plt.xlabel('PC %d' % PC_x)\n",
        "plt.ylabel('PC %d' % PC_y)\n",
        "plt.show()\n"
      ],
      "execution_count": 45,
      "outputs": [
        {
          "output_type": "stream",
          "text": [
            "(1257, 10)\n"
          ],
          "name": "stdout"
        },
        {
          "output_type": "display_data",
          "data": {
            "image/png": "[encoded data removed]",
            "text/plain": [
              "<Figure size 576x396 with 1 Axes>"
            ]
          },
          "metadata": {
            "tags": []
          }
        }
      ]
    },
    {
      "metadata": {
        "id": "nhH_LhiQzkRw",
        "colab_type": "code",
        "colab": {}
      },
      "cell_type": "code",
      "source": [
        ""
      ],
      "execution_count": 0,
      "outputs": []
    },
    {
      "metadata": {
        "id": "-dsSqSNszkR1",
        "colab_type": "code",
        "colab": {}
      },
      "cell_type": "code",
      "source": [
        ""
      ],
      "execution_count": 0,
      "outputs": []
    }
  ]
}